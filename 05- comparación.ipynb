{
 "cells": [
  {
   "cell_type": "code",
   "execution_count": 6,
   "id": "679aa7ac",
   "metadata": {},
   "outputs": [],
   "source": [
    "import joblib\n",
    "import pandas as pd\n",
    "from sklearn.metrics import cohen_kappa_score\n",
    "\n",
    "best_rf = joblib.load(\"modelo_random_forest.pkl\")\n",
    "best_svm = joblib.load(\"modelo_linearsvc.pkl\")\n",
    "scaler = joblib.load(\"scaler_svm.pkl\")  \n",
    "\n",
    "df = pd.read_csv(\"06 - dataset_limpio.csv\")"
   ]
  },
  {
   "cell_type": "code",
   "execution_count": 7,
   "id": "ef0395d1",
   "metadata": {},
   "outputs": [
    {
     "name": "stdout",
     "output_type": "stream",
     "text": [
      "Cohen's Kappa: 0.8462\n"
     ]
    }
   ],
   "source": [
    "\n",
    "# Preparar datos de entrada\n",
    "X = df.drop(\"Diabetes_binary\", axis=1)\n",
    "y = df[\"Diabetes_binary\"]\n",
    "\n",
    "from sklearn.model_selection import train_test_split\n",
    "\n",
    "X_train, X_test, y_train, y_test = train_test_split(X, y, test_size=0.2, random_state=42, stratify=y)\n",
    "\n",
    "# Escalar para SVM\n",
    "X_test_scaled = scaler.transform(X_test)\n",
    "\n",
    "# Predicciones\n",
    "y_pred_rf = best_rf.predict(X_test)\n",
    "y_pred_svm = best_svm.predict(X_test_scaled)\n",
    "\n",
    "# Análisis de concordancia\n",
    "kappa_score = cohen_kappa_score(y_pred_rf, y_pred_svm)\n",
    "print(f\"Cohen's Kappa: {kappa_score:.4f}\")"
   ]
  },
  {
   "cell_type": "markdown",
   "id": "03fee686",
   "metadata": {},
   "source": [
    " Conclusión de la comparación entre modelos\n",
    "La comparación entre los modelos Random Forest y LinearSVC ajustados muestra un alto grado de concordancia, evidenciado por un valor de Cohen's Kappa de 0.8462, lo cual se interpreta como una concordancia casi perfecta.\n",
    "\n",
    "Este nivel de acuerdo sugiere que, aunque los dos modelos utilizan enfoques distintos (árboles de decisión vs. separación lineal), ambos están clasificando de manera muy similar los casos en el conjunto de prueba, especialmente tras haber sido optimizados para mejorar la sensibilidad hacia la clase positiva (diabetes).\n",
    "\n",
    "En resumen, ambos modelos se comportan de forma coherente entre sí, lo cual refuerza la robustez de los resultados obtenidos y brinda confianza en su uso para la toma de decisiones en contextos sensibles como la salud pública."
   ]
  }
 ],
 "metadata": {
  "kernelspec": {
   "display_name": "Python 3",
   "language": "python",
   "name": "python3"
  },
  "language_info": {
   "codemirror_mode": {
    "name": "ipython",
    "version": 3
   },
   "file_extension": ".py",
   "mimetype": "text/x-python",
   "name": "python",
   "nbconvert_exporter": "python",
   "pygments_lexer": "ipython3",
   "version": "3.12.5"
  }
 },
 "nbformat": 4,
 "nbformat_minor": 5
}
