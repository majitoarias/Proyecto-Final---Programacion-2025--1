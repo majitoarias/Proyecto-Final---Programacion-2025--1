{
 "cells": [
  {
   "cell_type": "code",
   "execution_count": 8,
   "id": "60eff61d",
   "metadata": {},
   "outputs": [
    {
     "name": "stdout",
     "output_type": "stream",
     "text": [
      "HighBP                  12684\n",
      "HighChol                12684\n",
      "CholCheck               12684\n",
      "BMI                     12684\n",
      "Smoker                  12684\n",
      "Stroke                  12684\n",
      "HeartDiseaseorAttack    12684\n",
      "PhysActivity            12684\n",
      "Fruits                  12684\n",
      "Veggies                 12684\n",
      "HvyAlcoholConsump       12684\n",
      "AnyHealthcare           12684\n",
      "NoDocbcCost             12684\n",
      "GenHlth                 12684\n",
      "MentHlth                12684\n",
      "PhysHlth                12684\n",
      "DiffWalk                12684\n",
      "Sex                     12684\n",
      "Age                     12684\n",
      "Education               12684\n",
      "Income                  12684\n",
      "Diabetes_binary         12684\n",
      "dtype: int64\n",
      "HighBP                  5.0\n",
      "HighChol                5.0\n",
      "CholCheck               5.0\n",
      "BMI                     5.0\n",
      "Smoker                  5.0\n",
      "Stroke                  5.0\n",
      "HeartDiseaseorAttack    5.0\n",
      "PhysActivity            5.0\n",
      "Fruits                  5.0\n",
      "Veggies                 5.0\n",
      "HvyAlcoholConsump       5.0\n",
      "AnyHealthcare           5.0\n",
      "NoDocbcCost             5.0\n",
      "GenHlth                 5.0\n",
      "MentHlth                5.0\n",
      "PhysHlth                5.0\n",
      "DiffWalk                5.0\n",
      "Sex                     5.0\n",
      "Age                     5.0\n",
      "Education               5.0\n",
      "Income                  5.0\n",
      "Diabetes_binary         5.0\n",
      "dtype: float64\n",
      "Valores faltantes:  0\n",
      "Tamaño del dataset limpio:  (253680, 22)\n"
     ]
    }
   ],
   "source": [
    "# Cargar el dataset \n",
    "\n",
    "import pandas as pd\n",
    "\n",
    "df = pd.read_csv(\"06 - dataset_valores_nulos.csv\") \n",
    "\n",
    "# Verificar valores faltantes\n",
    "\n",
    "missing_summary = df.isnull().sum()\n",
    "missing_percentage = (missing_summary / len(df)) * 100\n",
    "\n",
    "print(missing_summary)\n",
    "print(missing_percentage)\n",
    "\n",
    "# Imputar valores faltantes\n",
    "\n",
    "for col in df.columns:\n",
    "    if df[col].isnull().sum() > 0:\n",
    "        if df[col].nunique() > 10:\n",
    "            df[col] = df[col].fillna(df[col].median())\n",
    "        else:\n",
    "            df[col] = df[col].fillna(df[col].mode()[0])\n",
    "\n",
    "\n",
    "print(\"Valores faltantes: \", df.isnull().sum().sum())  # Debe ser 0\n",
    "print(\"Tamaño del dataset limpio: \", df.shape)  # Debe ser (253680, 22)\n",
    "\n",
    "df.to_csv(\"06 - dataset_limpio.csv\", index=False)\n"
   ]
  }
 ],
 "metadata": {
  "kernelspec": {
   "display_name": "Python 3",
   "language": "python",
   "name": "python3"
  },
  "language_info": {
   "codemirror_mode": {
    "name": "ipython",
    "version": 3
   },
   "file_extension": ".py",
   "mimetype": "text/x-python",
   "name": "python",
   "nbconvert_exporter": "python",
   "pygments_lexer": "ipython3",
   "version": "3.12.5"
  }
 },
 "nbformat": 4,
 "nbformat_minor": 5
}
